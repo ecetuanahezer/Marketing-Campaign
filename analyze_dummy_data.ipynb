{
 "cells": [
  {
   "cell_type": "code",
   "execution_count": null,
   "id": "e7d3595f",
   "metadata": {},
   "outputs": [
    {
     "ename": "ModuleNotFoundError",
     "evalue": "No module named 'google_auth_oauthlib'",
     "output_type": "error",
     "traceback": [
      "\u001b[31m---------------------------------------------------------------------------\u001b[39m",
      "\u001b[31mModuleNotFoundError\u001b[39m                       Traceback (most recent call last)",
      "\u001b[36mCell\u001b[39m\u001b[36m \u001b[39m\u001b[32mIn[1]\u001b[39m\u001b[32m, line 2\u001b[39m\n\u001b[32m      1\u001b[39m \u001b[38;5;66;03m# install: pip install google-auth-oauthlib\u001b[39;00m\n\u001b[32m----> \u001b[39m\u001b[32m2\u001b[39m \u001b[38;5;28;01mfrom\u001b[39;00m\u001b[38;5;250m \u001b[39m\u001b[34;01mgoogle_auth_oauthlib\u001b[39;00m\u001b[34;01m.\u001b[39;00m\u001b[34;01mflow\u001b[39;00m\u001b[38;5;250m \u001b[39m\u001b[38;5;28;01mimport\u001b[39;00m InstalledAppFlow\n\u001b[32m      3\u001b[39m \u001b[38;5;28;01mimport\u001b[39;00m\u001b[38;5;250m \u001b[39m\u001b[34;01mjson\u001b[39;00m\n\u001b[32m      5\u001b[39m \u001b[38;5;66;03m# client_secret.json dosyanın yolunu ver\u001b[39;00m\n",
      "\u001b[31mModuleNotFoundError\u001b[39m: No module named 'google_auth_oauthlib'"
     ]
    }
   ],
   "source": [
    "\n",
    "\n",
    "# client_secret.json dosyanın yolunu ver\n",
    "flow = InstalledAppFlow.from_client_secrets_file(\n",
    "    \"client_secret.json\",\n",
    "    scopes=[\"https://www.googleapis.com/auth/adwords\"]  # Google Ads scope\n",
    ")\n",
    "\n",
    "creds = flow.run_local_server(port=0)\n",
    "print(\"Access token:\", creds.token)\n",
    "print(\"Refresh token:\", creds.refresh_token)\n",
    "\n",
    "# istersen dosyaya kaydet\n",
    "with open(\"refresh_token.txt\", \"w\") as f:\n",
    "    f.write(creds.refresh_token)"
   ]
  },
  {
   "cell_type": "code",
   "execution_count": 2,
   "id": "fb69ee12",
   "metadata": {},
   "outputs": [
    {
     "ename": "ModuleNotFoundError",
     "evalue": "No module named 'google_auth_oauthlib'",
     "output_type": "error",
     "traceback": [
      "\u001b[31m---------------------------------------------------------------------------\u001b[39m",
      "\u001b[31mModuleNotFoundError\u001b[39m                       Traceback (most recent call last)",
      "\u001b[36mCell\u001b[39m\u001b[36m \u001b[39m\u001b[32mIn[2]\u001b[39m\u001b[32m, line 2\u001b[39m\n\u001b[32m      1\u001b[39m \u001b[38;5;66;03m# install: pip install google-auth-oauthlib\u001b[39;00m\n\u001b[32m----> \u001b[39m\u001b[32m2\u001b[39m \u001b[38;5;28;01mfrom\u001b[39;00m\u001b[38;5;250m \u001b[39m\u001b[34;01mgoogle_auth_oauthlib\u001b[39;00m\u001b[34;01m.\u001b[39;00m\u001b[34;01mflow\u001b[39;00m\u001b[38;5;250m \u001b[39m\u001b[38;5;28;01mimport\u001b[39;00m InstalledAppFlow\n\u001b[32m      3\u001b[39m \u001b[38;5;28;01mimport\u001b[39;00m\u001b[38;5;250m \u001b[39m\u001b[34;01mjson\u001b[39;00m\n",
      "\u001b[31mModuleNotFoundError\u001b[39m: No module named 'google_auth_oauthlib'"
     ]
    }
   ],
   "source": [
    "# install: pip install google-auth-oauthlib\n",
    "from google_auth_oauthlib.flow import InstalledAppFlow\n",
    "import json"
   ]
  }
 ],
 "metadata": {
  "kernelspec": {
   "display_name": "Python 3",
   "language": "python",
   "name": "python3"
  },
  "language_info": {
   "codemirror_mode": {
    "name": "ipython",
    "version": 3
   },
   "file_extension": ".py",
   "mimetype": "text/x-python",
   "name": "python",
   "nbconvert_exporter": "python",
   "pygments_lexer": "ipython3",
   "version": "3.12.6"
  }
 },
 "nbformat": 4,
 "nbformat_minor": 5
}
